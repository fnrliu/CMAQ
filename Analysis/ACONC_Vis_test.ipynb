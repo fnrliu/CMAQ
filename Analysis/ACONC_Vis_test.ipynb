{
 "cells": [
  {
   "cell_type": "markdown",
   "metadata": {},
   "source": [
    "### Visualization to show the result are the same and try to plot a map"
   ]
  },
  {
   "cell_type": "code",
   "execution_count": 4,
   "metadata": {},
   "outputs": [],
   "source": [
    "import numpy as np\n",
    "from netCDF4 import Dataset\n",
    "import matplotlib.pyplot as plt"
   ]
  },
  {
   "cell_type": "markdown",
   "metadata": {},
   "source": [
    "Import the ACONC file from CMAQ_V5.3.2"
   ]
  },
  {
   "cell_type": "code",
   "execution_count": 5,
   "metadata": {},
   "outputs": [],
   "source": [
    "ACONCbasename = '/mnt/HA/groups/cappsGrp/users/el662/CMAQ_REPO_V532/data/output_CCTM_v532_intel_Bench_2016_12SE1/CCTM_ACONC_v532_intel_Bench_2016_12SE1_20160701.nc'\n",
    "ACONCbasename_debug = '/mnt/HA/groups/cappsGrp/users/el662/CMAQ_REPO_V532/data/output_CCTM_v532_debug_intel_Bench_2016_12SE1/CCTM_ACONC_v532_debug_intel_Bench_2016_12SE1_20160701.nc'\n",
    "ACONCbasename_old = '/mnt/HA/groups/cappsGrp/users/el662/CMAQ_53_Beta/CMAQ-Drexel/data/output_CCTM_v53el_intel_SE52BENCH/CCTM_ACONC_v53el_intel_SE52BENCH_20110701.nc'\n",
    "ACONCbasename_off = '/mnt/HA/groups/cappsGrp/users/el662/CMAQ_REPO_V532/data/SEv5.3.2.BENCH/output_CCTM_v532_ISAM_gcc_Bench_2016_12SE1_debug/CCTM_ACONC_v532_ISAM_gcc_Bench_2016_12SE1_20160701.nc'"
   ]
  },
  {
   "cell_type": "code",
   "execution_count": 6,
   "metadata": {},
   "outputs": [
    {
     "name": "stdout",
     "output_type": "stream",
     "text": [
      "(24, 1, 80, 100)\n",
      "(2, 1, 80, 100)\n",
      "(24, 1, 80, 100)\n",
      "(24, 1, 80, 100)\n"
     ]
    }
   ],
   "source": [
    "ACONCds = Dataset(ACONCbasename, \"r\")\n",
    "ACONCds_debug = Dataset(ACONCbasename_debug, \"r\")\n",
    "ACONCds_old = Dataset(ACONCbasename_old, \"r\")\n",
    "ACONCds_off = Dataset(ACONCbasename_off, \"r\")\n",
    "print(ACONCds.variables['NH3'].shape)\n",
    "print(ACONCds_debug.variables['NH3'].shape)\n",
    "print(ACONCds_old.variables['NH3'].shape)\n",
    "print(ACONCds_off.variables['NH3'].shape)\n",
    "list_variables = ['NH3', 'HNO3', 'HCL', 'ASO4J', 'ASO4I', 'ANH4J', 'ANH4I', 'ANO3J', 'ANO3I', 'ANAJ', 'ANAI', 'ACLJ', 'ACLI']"
   ]
  },
  {
   "cell_type": "markdown",
   "metadata": {},
   "source": [
    "Compare the result with official benchmarking result using the debug file. Use the list of variables provided by Trammell. First, the variables are the same. "
   ]
  },
  {
   "cell_type": "code",
   "execution_count": 7,
   "metadata": {},
   "outputs": [
    {
     "name": "stdout",
     "output_type": "stream",
     "text": [
      "set()\n"
     ]
    }
   ],
   "source": [
    "print(ACONCds.variables.keys() - ACONCds_off.variables.keys())"
   ]
  },
  {
   "cell_type": "code",
   "execution_count": 12,
   "metadata": {},
   "outputs": [
    {
     "data": {
      "text/plain": [
       "Text(0, 0.5, 'official-run-NH3 [ppmV]')"
      ]
     },
     "execution_count": 12,
     "metadata": {},
     "output_type": "execute_result"
    },
    {
     "data": {
      "image/png": "[encoded data removed]",
      "text/plain": [
       "<Figure size 432x288 with 1 Axes>"
      ]
     },
     "metadata": {
      "needs_background": "light"
     },
     "output_type": "display_data"
    }
   ],
   "source": [
    "plt.plot(np.array(ACONCds.variables['NH3']).flatten(), np.array(ACONCds_off.variables['NH3']).flatten(), '.b')\n",
    "plt.xlabel('ed-run-NH3 [ppmV]')\n",
    "plt.ylabel('official-run-NH3 [ppmV]')"
   ]
  },
  {
   "cell_type": "markdown",
   "metadata": {},
   "source": [
    "From the griddesc file: \n",
    "   - grid center: 97W, 40N\n",
    "   - EW offset: 792000m\n",
    "   - NS offset: 1080000m \n",
    "   - cell size: 12000x12000m\n",
    "   - x-columns: 100; y-columns: 80\n",
    "\n",
    "According to the documentation of Basemap, it seems that I can directly set it up with these parameters. Having some trouble working with Basemap here. Back to .py files."
   ]
  },
  {
   "cell_type": "code",
   "execution_count": null,
   "metadata": {},
   "outputs": [],
   "source": []
  }
 ],
 "metadata": {
  "kernelspec": {
   "display_name": "Python 3",
   "language": "python",
   "name": "python3"
  },
  "language_info": {
   "codemirror_mode": {
    "name": "ipython",
    "version": 3
   },
   "file_extension": ".py",
   "mimetype": "text/x-python",
   "name": "python",
   "nbconvert_exporter": "python",
   "pygments_lexer": "ipython3",
   "version": "3.8.5"
  }
 },
 "nbformat": 4,
 "nbformat_minor": 4
}
